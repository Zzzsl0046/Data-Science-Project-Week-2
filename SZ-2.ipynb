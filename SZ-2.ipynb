{
 "cells": [
  {
   "cell_type": "markdown",
   "id": "452c6c3c-ac66-4323-92de-08df5b742d0b",
   "metadata": {
    "tags": []
   },
   "source": [
    "# Data Science Tools"
   ]
  },
  {
   "cell_type": "markdown",
   "id": "de553a81-37b9-4fc5-ab21-df9df508e893",
   "metadata": {},
   "source": [
    "### James Z"
   ]
  },
  {
   "cell_type": "markdown",
   "id": "c7ac4116-faa7-47be-9939-0a8128923a4c",
   "metadata": {},
   "source": [
    "##### SUNY NP"
   ]
  },
  {
   "cell_type": "markdown",
   "id": "a27a0297-099a-41d3-a94d-e571f2ef9221",
   "metadata": {},
   "source": [
    "##### I am interested in Data Science because I want to reveal the hidden trends in any popular events and become important and able to assist others."
   ]
  },
  {
   "cell_type": "markdown",
   "id": "c143c811-edff-4078-a27c-6de91defdb48",
   "metadata": {},
   "source": [
    "# The below should print \"hello world\""
   ]
  },
  {
   "cell_type": "code",
   "execution_count": 4,
   "id": "c6569458-750f-4bd0-9764-9ea788e94987",
   "metadata": {
    "tags": []
   },
   "outputs": [
    {
     "name": "stdout",
     "output_type": "stream",
     "text": [
      "hello world\n"
     ]
    }
   ],
   "source": [
    "print(\"hello world\")"
   ]
  },
  {
   "cell_type": "markdown",
   "id": "fa9b71fa-762a-497d-8c7f-9b3be8b13c72",
   "metadata": {
    "tags": []
   },
   "source": [
    "##### In this notebook, Data Science Tools will be introduced. This is the final assigment of the week 2 course \"Tools for Data Science\" 1/13/2024"
   ]
  },
  {
   "cell_type": "markdown",
   "id": "ef55f61e-2c9b-4929-9b4c-cd06ce0357f3",
   "metadata": {
    "tags": []
   },
   "source": [
    "#### Some of the most used tools for data scientists are:\n",
    "####\n",
    "##### 1. RStudio\n",
    "##### 2. Python\n",
    "##### 3. Jupyter Notebook\n",
    "##### 4. Java\n",
    "##### 5. Github"
   ]
  },
  {
   "cell_type": "markdown",
   "id": "ee14639a-c56f-4918-81ed-bfdad20a9d9b",
   "metadata": {},
   "source": [
    "#### Some of the commonly used libraries used by Data Scientists include: If we use python the most common are:\n",
    "####\n",
    "##### 1. Matplotlib\n",
    "##### 2. Numpy\n",
    "##### 3. Tensor Flow\n",
    "##### 4. Scikit-learn"
   ]
  },
  {
   "cell_type": "markdown",
   "id": "d9e367e3-97b5-4690-955f-c815ea7939b8",
   "metadata": {},
   "source": [
    "#### If we use R, the most common tools are:\n",
    "####\n",
    "##### 1. ggplot\n",
    "##### 2. dplyr\n",
    "##### 3. stringr"
   ]
  },
  {
   "cell_type": "code",
   "execution_count": 15,
   "id": "e070bd9a-51d8-48ed-89d3-2b8f9fa6bfe3",
   "metadata": {
    "tags": []
   },
   "outputs": [
    {
     "name": "stdout",
     "output_type": "stream",
     "text": [
      "I love Data Science\n"
     ]
    }
   ],
   "source": [
    "print(\"I love Data Science\")"
   ]
  },
  {
   "cell_type": "markdown",
   "id": "fe6a914d-2265-4b79-a31e-f440858bce08",
   "metadata": {},
   "source": [
    "### Below will show a few examples of evaluating arithmetric expression in Python:"
   ]
  },
  {
   "cell_type": "markdown",
   "id": "a1679ca8-7a14-44b4-96bf-d1c0323ce681",
   "metadata": {},
   "source": [
    "###### This a simple arithmetic expression to mutiply then add integers that is implemented in Python"
   ]
  },
  {
   "cell_type": "code",
   "execution_count": 14,
   "id": "180c75de-f23d-4c71-97d2-5629c8a94276",
   "metadata": {
    "tags": []
   },
   "outputs": [
    {
     "data": {
      "text/plain": [
       "80"
      ]
     },
     "execution_count": 14,
     "metadata": {},
     "output_type": "execute_result"
    }
   ],
   "source": [
    "((4+6)*4)*2"
   ]
  },
  {
   "cell_type": "markdown",
   "id": "cbca1ab9-1030-4a44-b0d6-350bf4c351c7",
   "metadata": {},
   "source": [
    "##### In the following exercise is presented an arithmetic expression to convert 200 minutes to hours by diving by 60."
   ]
  },
  {
   "cell_type": "code",
   "execution_count": 2,
   "id": "9d00046c-867f-49c1-bb04-7efa0fd05d67",
   "metadata": {
    "tags": []
   },
   "outputs": [
    {
     "data": {
      "text/plain": [
       "3.3333333333333335"
      ]
     },
     "execution_count": 2,
     "metadata": {},
     "output_type": "execute_result"
    }
   ],
   "source": [
    "200/60"
   ]
  },
  {
   "cell_type": "markdown",
   "id": "0a9c6d39-6522-4569-b42e-4b4f6bce114d",
   "metadata": {},
   "source": [
    "##### 200 minutes can be converted to 3.333...hours"
   ]
  },
  {
   "cell_type": "markdown",
   "id": "1cacf39f-cf35-437f-8ee6-618b2ac79937",
   "metadata": {},
   "source": [
    "#### Objectives in this notebook:\n",
    "######\n",
    "##### 1. practice markdown in Jupyter Notebook\n",
    "##### 2. be similar with the most common used tools in Data Science\n",
    "##### 3. implement simple arithmetric expression in Python\n",
    "##### 4. knowing how to make different types of markdowns in Jupyter Notebooks"
   ]
  },
  {
   "cell_type": "code",
   "execution_count": 1,
   "id": "f36c30cb-1c9b-4d93-982c-547cfaed20b2",
   "metadata": {
    "tags": []
   },
   "outputs": [
    {
     "name": "stdout",
     "output_type": "stream",
     "text": [
      "Shilong Zhou\n"
     ]
    }
   ],
   "source": [
    "print(\"Shilong Zhou\")"
   ]
  },
  {
   "cell_type": "markdown",
   "id": "d0070ea3-6bbe-4e6f-baf0-d87923d75558",
   "metadata": {},
   "source": [
    "## Author - James Z"
   ]
  },
  {
   "cell_type": "code",
   "execution_count": null,
   "id": "47c63e74-facb-463d-8416-1b72fc78bc89",
   "metadata": {},
   "outputs": [],
   "source": []
  }
 ],
 "metadata": {
  "kernelspec": {
   "display_name": "Python 3 (ipykernel)",
   "language": "python",
   "name": "python3"
  },
  "language_info": {
   "codemirror_mode": {
    "name": "ipython",
    "version": 3
   },
   "file_extension": ".py",
   "mimetype": "text/x-python",
   "name": "python",
   "nbconvert_exporter": "python",
   "pygments_lexer": "ipython3",
   "version": "3.11.5"
  }
 },
 "nbformat": 4,
 "nbformat_minor": 5
}
